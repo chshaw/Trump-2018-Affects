{
 "cells": [
  {
   "cell_type": "markdown",
   "metadata": {},
   "source": [
    "# Imports"
   ]
  },
  {
   "cell_type": "code",
   "execution_count": 1,
   "metadata": {},
   "outputs": [],
   "source": [
    "import pandas as pd\n",
    "import numpy as np\n",
    "import regex as re\n",
    "\n",
    "import seaborn as sns\n",
    "import matplotlib.pyplot as plt\n",
    "\n",
    "%matplotlib inline"
   ]
  },
  {
   "cell_type": "markdown",
   "metadata": {},
   "source": [
    "### District Makeup Data"
   ]
  },
  {
   "cell_type": "code",
   "execution_count": 2,
   "metadata": {},
   "outputs": [],
   "source": [
    "#importing data\n",
    "partisan_lean_districts = pd.read_csv('./data/partisan-lean/partisan_lean_DISTRICTS.csv')\n",
    "elasticity_districts = pd.read_csv('./data/elasticity-scores/elasticity-by-district.csv')"
   ]
  },
  {
   "cell_type": "code",
   "execution_count": 3,
   "metadata": {},
   "outputs": [
    {
     "name": "stdout",
     "output_type": "stream",
     "text": [
      "(435, 2)\n",
      "(435, 2)\n"
     ]
    }
   ],
   "source": [
    "#print shapes\n",
    "print(partisan_lean_districts.shape)\n",
    "print(elasticity_districts.shape)"
   ]
  },
  {
   "cell_type": "code",
   "execution_count": 4,
   "metadata": {},
   "outputs": [],
   "source": [
    "#merge dataframes on district\n",
    "district_makeup = pd.merge(elasticity_districts,partisan_lean_districts,how='inner', on= 'district').sort_values(by='district')"
   ]
  },
  {
   "cell_type": "code",
   "execution_count": 5,
   "metadata": {},
   "outputs": [],
   "source": [
    "#resetting index\n",
    "district_makeup.reset_index(inplace=True,drop=True)"
   ]
  },
  {
   "cell_type": "code",
   "execution_count": 6,
   "metadata": {},
   "outputs": [
    {
     "name": "stdout",
     "output_type": "stream",
     "text": [
      "(435, 3)\n"
     ]
    },
    {
     "data": {
      "text/html": [
       "<div>\n",
       "<style scoped>\n",
       "    .dataframe tbody tr th:only-of-type {\n",
       "        vertical-align: middle;\n",
       "    }\n",
       "\n",
       "    .dataframe tbody tr th {\n",
       "        vertical-align: top;\n",
       "    }\n",
       "\n",
       "    .dataframe thead th {\n",
       "        text-align: right;\n",
       "    }\n",
       "</style>\n",
       "<table border=\"1\" class=\"dataframe\">\n",
       "  <thead>\n",
       "    <tr style=\"text-align: right;\">\n",
       "      <th></th>\n",
       "      <th>district</th>\n",
       "      <th>elasticity</th>\n",
       "      <th>pvi_538</th>\n",
       "    </tr>\n",
       "  </thead>\n",
       "  <tbody>\n",
       "    <tr>\n",
       "      <th>0</th>\n",
       "      <td>AK-1</td>\n",
       "      <td>1.16</td>\n",
       "      <td>R+15.21</td>\n",
       "    </tr>\n",
       "    <tr>\n",
       "      <th>1</th>\n",
       "      <td>AL-1</td>\n",
       "      <td>0.90</td>\n",
       "      <td>R+28.61</td>\n",
       "    </tr>\n",
       "    <tr>\n",
       "      <th>2</th>\n",
       "      <td>AL-2</td>\n",
       "      <td>0.97</td>\n",
       "      <td>R+30.97</td>\n",
       "    </tr>\n",
       "    <tr>\n",
       "      <th>3</th>\n",
       "      <td>AL-3</td>\n",
       "      <td>0.79</td>\n",
       "      <td>R+31.37</td>\n",
       "    </tr>\n",
       "    <tr>\n",
       "      <th>4</th>\n",
       "      <td>AL-4</td>\n",
       "      <td>0.86</td>\n",
       "      <td>R+59.81</td>\n",
       "    </tr>\n",
       "  </tbody>\n",
       "</table>\n",
       "</div>"
      ],
      "text/plain": [
       "  district  elasticity  pvi_538\n",
       "0     AK-1        1.16  R+15.21\n",
       "1     AL-1        0.90  R+28.61\n",
       "2     AL-2        0.97  R+30.97\n",
       "3     AL-3        0.79  R+31.37\n",
       "4     AL-4        0.86  R+59.81"
      ]
     },
     "execution_count": 6,
     "metadata": {},
     "output_type": "execute_result"
    }
   ],
   "source": [
    "#new combined df\n",
    "print(district_makeup.shape)\n",
    "district_makeup.head()"
   ]
  },
  {
   "cell_type": "code",
   "execution_count": 7,
   "metadata": {},
   "outputs": [],
   "source": [
    "#regex to add 0's to make all the district names uniform for later contatenation\n",
    "district_makeup.district = district_makeup.district.str.replace('-(\\d{1})$',r'-0\\1')"
   ]
  },
  {
   "cell_type": "code",
   "execution_count": 8,
   "metadata": {},
   "outputs": [],
   "source": [
    "#changing pvi to negative and positive range and then extracting just number\n",
    "district_makeup.pvi_538 = district_makeup.pvi_538.str.replace('(D)[+]','D-')\n",
    "\n",
    "#getting rid of party letter\n",
    "district_makeup.pvi_538 = district_makeup.pvi_538.str.replace('\\w([-+].+)',r'\\1')\n",
    "\n",
    "#removing + signs\n",
    "district_makeup.pvi_538 = district_makeup.pvi_538.str.replace('[+]',' ')"
   ]
  },
  {
   "cell_type": "code",
   "execution_count": 9,
   "metadata": {},
   "outputs": [
    {
     "data": {
      "text/html": [
       "<div>\n",
       "<style scoped>\n",
       "    .dataframe tbody tr th:only-of-type {\n",
       "        vertical-align: middle;\n",
       "    }\n",
       "\n",
       "    .dataframe tbody tr th {\n",
       "        vertical-align: top;\n",
       "    }\n",
       "\n",
       "    .dataframe thead th {\n",
       "        text-align: right;\n",
       "    }\n",
       "</style>\n",
       "<table border=\"1\" class=\"dataframe\">\n",
       "  <thead>\n",
       "    <tr style=\"text-align: right;\">\n",
       "      <th></th>\n",
       "      <th>district</th>\n",
       "      <th>elasticity</th>\n",
       "      <th>pvi_538</th>\n",
       "    </tr>\n",
       "  </thead>\n",
       "  <tbody>\n",
       "    <tr>\n",
       "      <th>0</th>\n",
       "      <td>AK-01</td>\n",
       "      <td>1.16</td>\n",
       "      <td>15.21</td>\n",
       "    </tr>\n",
       "    <tr>\n",
       "      <th>1</th>\n",
       "      <td>AL-01</td>\n",
       "      <td>0.90</td>\n",
       "      <td>28.61</td>\n",
       "    </tr>\n",
       "    <tr>\n",
       "      <th>2</th>\n",
       "      <td>AL-02</td>\n",
       "      <td>0.97</td>\n",
       "      <td>30.97</td>\n",
       "    </tr>\n",
       "    <tr>\n",
       "      <th>3</th>\n",
       "      <td>AL-03</td>\n",
       "      <td>0.79</td>\n",
       "      <td>31.37</td>\n",
       "    </tr>\n",
       "    <tr>\n",
       "      <th>4</th>\n",
       "      <td>AL-04</td>\n",
       "      <td>0.86</td>\n",
       "      <td>59.81</td>\n",
       "    </tr>\n",
       "  </tbody>\n",
       "</table>\n",
       "</div>"
      ],
      "text/plain": [
       "  district  elasticity pvi_538\n",
       "0    AK-01        1.16   15.21\n",
       "1    AL-01        0.90   28.61\n",
       "2    AL-02        0.97   30.97\n",
       "3    AL-03        0.79   31.37\n",
       "4    AL-04        0.86   59.81"
      ]
     },
     "execution_count": 9,
     "metadata": {},
     "output_type": "execute_result"
    }
   ],
   "source": [
    "district_makeup.head()"
   ]
  },
  {
   "cell_type": "markdown",
   "metadata": {},
   "source": [
    "## Trump Scores"
   ]
  },
  {
   "cell_type": "code",
   "execution_count": 10,
   "metadata": {},
   "outputs": [],
   "source": [
    "#importing csvs\n",
    "trump_averages = pd.read_csv('./data/trump-score/trump_averages.csv')\n",
    "trump_predictions = pd.read_csv('./data/trump-score/trump_vote_predictions.csv')"
   ]
  },
  {
   "cell_type": "code",
   "execution_count": 11,
   "metadata": {
    "scrolled": true
   },
   "outputs": [
    {
     "name": "stdout",
     "output_type": "stream",
     "text": [
      "(1729, 11)\n",
      "(55369, 15)\n"
     ]
    }
   ],
   "source": [
    "#print shapes\n",
    "print(trump_averages.shape)\n",
    "print(trump_predictions.shape)"
   ]
  },
  {
   "cell_type": "code",
   "execution_count": 12,
   "metadata": {},
   "outputs": [
    {
     "data": {
      "text/html": [
       "<div>\n",
       "<style scoped>\n",
       "    .dataframe tbody tr th:only-of-type {\n",
       "        vertical-align: middle;\n",
       "    }\n",
       "\n",
       "    .dataframe tbody tr th {\n",
       "        vertical-align: top;\n",
       "    }\n",
       "\n",
       "    .dataframe thead th {\n",
       "        text-align: right;\n",
       "    }\n",
       "</style>\n",
       "<table border=\"1\" class=\"dataframe\">\n",
       "  <thead>\n",
       "    <tr style=\"text-align: right;\">\n",
       "      <th></th>\n",
       "      <th>congress</th>\n",
       "      <th>chamber</th>\n",
       "      <th>bioguide</th>\n",
       "      <th>last_name</th>\n",
       "      <th>state</th>\n",
       "      <th>district</th>\n",
       "      <th>party</th>\n",
       "      <th>votes</th>\n",
       "      <th>agree_pct</th>\n",
       "      <th>predicted_agree</th>\n",
       "      <th>net_trump_vote</th>\n",
       "    </tr>\n",
       "  </thead>\n",
       "  <tbody>\n",
       "    <tr>\n",
       "      <th>0</th>\n",
       "      <td>0</td>\n",
       "      <td>house</td>\n",
       "      <td>A000055</td>\n",
       "      <td>Aderholt</td>\n",
       "      <td>AL</td>\n",
       "      <td>4.0</td>\n",
       "      <td>Republican</td>\n",
       "      <td>107</td>\n",
       "      <td>0.971963</td>\n",
       "      <td>0.950011</td>\n",
       "      <td>63.0</td>\n",
       "    </tr>\n",
       "    <tr>\n",
       "      <th>1</th>\n",
       "      <td>115</td>\n",
       "      <td>house</td>\n",
       "      <td>A000055</td>\n",
       "      <td>Aderholt</td>\n",
       "      <td>AL</td>\n",
       "      <td>4.0</td>\n",
       "      <td>R</td>\n",
       "      <td>95</td>\n",
       "      <td>0.968421</td>\n",
       "      <td>0.946349</td>\n",
       "      <td>63.0</td>\n",
       "    </tr>\n",
       "    <tr>\n",
       "      <th>2</th>\n",
       "      <td>116</td>\n",
       "      <td>house</td>\n",
       "      <td>A000055</td>\n",
       "      <td>Aderholt</td>\n",
       "      <td>AL</td>\n",
       "      <td>4.0</td>\n",
       "      <td>R</td>\n",
       "      <td>12</td>\n",
       "      <td>1.000000</td>\n",
       "      <td>0.979001</td>\n",
       "      <td>63.0</td>\n",
       "    </tr>\n",
       "    <tr>\n",
       "      <th>3</th>\n",
       "      <td>0</td>\n",
       "      <td>house</td>\n",
       "      <td>A000367</td>\n",
       "      <td>Amash</td>\n",
       "      <td>MI</td>\n",
       "      <td>3.0</td>\n",
       "      <td>Republican</td>\n",
       "      <td>108</td>\n",
       "      <td>0.592593</td>\n",
       "      <td>0.814675</td>\n",
       "      <td>9.4</td>\n",
       "    </tr>\n",
       "    <tr>\n",
       "      <th>4</th>\n",
       "      <td>115</td>\n",
       "      <td>house</td>\n",
       "      <td>A000367</td>\n",
       "      <td>Amash</td>\n",
       "      <td>MI</td>\n",
       "      <td>3.0</td>\n",
       "      <td>R</td>\n",
       "      <td>96</td>\n",
       "      <td>0.541667</td>\n",
       "      <td>0.847386</td>\n",
       "      <td>9.4</td>\n",
       "    </tr>\n",
       "  </tbody>\n",
       "</table>\n",
       "</div>"
      ],
      "text/plain": [
       "   congress chamber bioguide last_name state  district       party  votes  \\\n",
       "0         0   house  A000055  Aderholt    AL       4.0  Republican    107   \n",
       "1       115   house  A000055  Aderholt    AL       4.0           R     95   \n",
       "2       116   house  A000055  Aderholt    AL       4.0           R     12   \n",
       "3         0   house  A000367     Amash    MI       3.0  Republican    108   \n",
       "4       115   house  A000367     Amash    MI       3.0           R     96   \n",
       "\n",
       "   agree_pct  predicted_agree  net_trump_vote  \n",
       "0   0.971963         0.950011            63.0  \n",
       "1   0.968421         0.946349            63.0  \n",
       "2   1.000000         0.979001            63.0  \n",
       "3   0.592593         0.814675             9.4  \n",
       "4   0.541667         0.847386             9.4  "
      ]
     },
     "execution_count": 12,
     "metadata": {},
     "output_type": "execute_result"
    }
   ],
   "source": [
    "#preview df\n",
    "trump_averages.head()"
   ]
  },
  {
   "cell_type": "code",
   "execution_count": 13,
   "metadata": {},
   "outputs": [
    {
     "name": "stdout",
     "output_type": "stream",
     "text": [
      "<class 'pandas.core.frame.DataFrame'>\n",
      "RangeIndex: 1729 entries, 0 to 1728\n",
      "Data columns (total 11 columns):\n",
      "congress           1729 non-null int64\n",
      "chamber            1729 non-null object\n",
      "bioguide           1729 non-null object\n",
      "last_name          1729 non-null object\n",
      "state              1729 non-null object\n",
      "district           1410 non-null float64\n",
      "party              1729 non-null object\n",
      "votes              1729 non-null int64\n",
      "agree_pct          1729 non-null float64\n",
      "predicted_agree    1729 non-null float64\n",
      "net_trump_vote     1729 non-null float64\n",
      "dtypes: float64(4), int64(2), object(5)\n",
      "memory usage: 148.7+ KB\n"
     ]
    }
   ],
   "source": [
    "#preview df\n",
    "trump_averages.info()"
   ]
  },
  {
   "cell_type": "code",
   "execution_count": 14,
   "metadata": {},
   "outputs": [],
   "source": [
    "#splitting out the house\n",
    "trump_avgs_house = trump_averages[trump_averages['chamber'] == 'house']"
   ]
  },
  {
   "cell_type": "code",
   "execution_count": 15,
   "metadata": {},
   "outputs": [
    {
     "name": "stdout",
     "output_type": "stream",
     "text": [
      "<class 'pandas.core.frame.DataFrame'>\n",
      "Int64Index: 1410 entries, 0 to 1409\n",
      "Data columns (total 11 columns):\n",
      "congress           1410 non-null int64\n",
      "chamber            1410 non-null object\n",
      "bioguide           1410 non-null object\n",
      "last_name          1410 non-null object\n",
      "state              1410 non-null object\n",
      "district           1410 non-null float64\n",
      "party              1410 non-null object\n",
      "votes              1410 non-null int64\n",
      "agree_pct          1410 non-null float64\n",
      "predicted_agree    1410 non-null float64\n",
      "net_trump_vote     1410 non-null float64\n",
      "dtypes: float64(4), int64(2), object(5)\n",
      "memory usage: 132.2+ KB\n"
     ]
    }
   ],
   "source": [
    "#trump house overview\n",
    "trump_avgs_house.info()"
   ]
  },
  {
   "cell_type": "code",
   "execution_count": 16,
   "metadata": {},
   "outputs": [
    {
     "name": "stderr",
     "output_type": "stream",
     "text": [
      "/anaconda3/envs/py36/lib/python3.6/site-packages/pandas/core/generic.py:4405: SettingWithCopyWarning: \n",
      "A value is trying to be set on a copy of a slice from a DataFrame.\n",
      "Try using .loc[row_indexer,col_indexer] = value instead\n",
      "\n",
      "See the caveats in the documentation: http://pandas.pydata.org/pandas-docs/stable/indexing.html#indexing-view-versus-copy\n",
      "  self[name] = value\n"
     ]
    }
   ],
   "source": [
    "#convert district to int to remove decimal then to a string\n",
    "trump_avgs_house.district = trump_avgs_house.district.astype(int)\n",
    "trump_avgs_house.district = trump_avgs_house.district.astype(str)"
   ]
  },
  {
   "cell_type": "code",
   "execution_count": 17,
   "metadata": {},
   "outputs": [
    {
     "name": "stderr",
     "output_type": "stream",
     "text": [
      "/anaconda3/envs/py36/lib/python3.6/site-packages/ipykernel_launcher.py:2: SettingWithCopyWarning: \n",
      "A value is trying to be set on a copy of a slice from a DataFrame.\n",
      "Try using .loc[row_indexer,col_indexer] = value instead\n",
      "\n",
      "See the caveats in the documentation: http://pandas.pydata.org/pandas-docs/stable/indexing.html#indexing-view-versus-copy\n",
      "  \n"
     ]
    }
   ],
   "source": [
    "#make district column from state and district columns\n",
    "trump_avgs_house['district'] = trump_avgs_house.state.astype(str) + '-' + trump_avgs_house.district"
   ]
  },
  {
   "cell_type": "code",
   "execution_count": 18,
   "metadata": {},
   "outputs": [],
   "source": [
    "#standardizing all house districts\n",
    "trump_avgs_house.district = trump_avgs_house.district.str.replace('-(\\d{1})$',r'-0\\1')"
   ]
  },
  {
   "cell_type": "code",
   "execution_count": 19,
   "metadata": {},
   "outputs": [],
   "source": [
    "#fixing at-large districts\n",
    "\n",
    "trump_avgs_house.district = trump_avgs_house.district.str.replace('00$','01')"
   ]
  },
  {
   "cell_type": "code",
   "execution_count": 20,
   "metadata": {},
   "outputs": [
    {
     "name": "stderr",
     "output_type": "stream",
     "text": [
      "/anaconda3/envs/py36/lib/python3.6/site-packages/pandas/core/frame.py:3697: SettingWithCopyWarning: \n",
      "A value is trying to be set on a copy of a slice from a DataFrame\n",
      "\n",
      "See the caveats in the documentation: http://pandas.pydata.org/pandas-docs/stable/indexing.html#indexing-view-versus-copy\n",
      "  errors=errors)\n"
     ]
    }
   ],
   "source": [
    "#dropping state column because it's in the district name\n",
    "trump_avgs_house.drop(columns='state',inplace=True)"
   ]
  },
  {
   "cell_type": "code",
   "execution_count": 21,
   "metadata": {},
   "outputs": [],
   "source": [
    "#splitting out the 115th congress\n",
    "trump115 = trump_avgs_house[trump_avgs_house['congress'] == 115]"
   ]
  },
  {
   "cell_type": "code",
   "execution_count": 22,
   "metadata": {},
   "outputs": [],
   "source": [
    "#splitting out the 116th congress\n",
    "trump116 = trump_avgs_house[trump_avgs_house['congress'] == 116]"
   ]
  },
  {
   "cell_type": "code",
   "execution_count": 23,
   "metadata": {},
   "outputs": [],
   "source": [
    "#dropping columns\n",
    "trump115 = trump115.drop(columns=['chamber','bioguide'])"
   ]
  },
  {
   "cell_type": "markdown",
   "metadata": {},
   "source": [
    "## Election Results"
   ]
  },
  {
   "cell_type": "markdown",
   "metadata": {},
   "source": [
    "### 2018"
   ]
  },
  {
   "cell_type": "code",
   "execution_count": 24,
   "metadata": {},
   "outputs": [],
   "source": [
    "#importing data\n",
    "election2018 = pd.read_csv('./data/2018-house/2018_house_election_results.csv')"
   ]
  },
  {
   "cell_type": "code",
   "execution_count": 25,
   "metadata": {},
   "outputs": [
    {
     "name": "stdout",
     "output_type": "stream",
     "text": [
      "<class 'pandas.core.frame.DataFrame'>\n",
      "RangeIndex: 896 entries, 0 to 895\n",
      "Data columns (total 10 columns):\n",
      "raceid         896 non-null object\n",
      "keyrace        896 non-null bool\n",
      "uncontested    896 non-null bool\n",
      "first          896 non-null object\n",
      "last           896 non-null object\n",
      "gender         896 non-null object\n",
      "party          896 non-null object\n",
      "winner         896 non-null bool\n",
      "votes          896 non-null int64\n",
      "pct            896 non-null float64\n",
      "dtypes: bool(3), float64(1), int64(1), object(5)\n",
      "memory usage: 51.7+ KB\n"
     ]
    }
   ],
   "source": [
    "#preview df\n",
    "election2018.info()"
   ]
  },
  {
   "cell_type": "code",
   "execution_count": 26,
   "metadata": {},
   "outputs": [],
   "source": [
    "election2018.drop_duplicates(inplace=True)"
   ]
  },
  {
   "cell_type": "code",
   "execution_count": 27,
   "metadata": {},
   "outputs": [
    {
     "name": "stdout",
     "output_type": "stream",
     "text": [
      "(826, 10)\n"
     ]
    },
    {
     "data": {
      "text/html": [
       "<div>\n",
       "<style scoped>\n",
       "    .dataframe tbody tr th:only-of-type {\n",
       "        vertical-align: middle;\n",
       "    }\n",
       "\n",
       "    .dataframe tbody tr th {\n",
       "        vertical-align: top;\n",
       "    }\n",
       "\n",
       "    .dataframe thead th {\n",
       "        text-align: right;\n",
       "    }\n",
       "</style>\n",
       "<table border=\"1\" class=\"dataframe\">\n",
       "  <thead>\n",
       "    <tr style=\"text-align: right;\">\n",
       "      <th></th>\n",
       "      <th>raceid</th>\n",
       "      <th>keyrace</th>\n",
       "      <th>uncontested</th>\n",
       "      <th>first</th>\n",
       "      <th>last</th>\n",
       "      <th>gender</th>\n",
       "      <th>party</th>\n",
       "      <th>winner</th>\n",
       "      <th>votes</th>\n",
       "      <th>pct</th>\n",
       "    </tr>\n",
       "  </thead>\n",
       "  <tbody>\n",
       "    <tr>\n",
       "      <th>0</th>\n",
       "      <td>ALH01</td>\n",
       "      <td>False</td>\n",
       "      <td>False</td>\n",
       "      <td>Bradley</td>\n",
       "      <td>Byrne</td>\n",
       "      <td>male</td>\n",
       "      <td>R</td>\n",
       "      <td>True</td>\n",
       "      <td>152308</td>\n",
       "      <td>63.3</td>\n",
       "    </tr>\n",
       "    <tr>\n",
       "      <th>1</th>\n",
       "      <td>ALH01</td>\n",
       "      <td>False</td>\n",
       "      <td>False</td>\n",
       "      <td>Robert</td>\n",
       "      <td>Kennedy</td>\n",
       "      <td>male</td>\n",
       "      <td>D</td>\n",
       "      <td>False</td>\n",
       "      <td>88365</td>\n",
       "      <td>36.7</td>\n",
       "    </tr>\n",
       "    <tr>\n",
       "      <th>2</th>\n",
       "      <td>ALH02</td>\n",
       "      <td>False</td>\n",
       "      <td>False</td>\n",
       "      <td>Martha</td>\n",
       "      <td>Roby</td>\n",
       "      <td>female</td>\n",
       "      <td>R</td>\n",
       "      <td>True</td>\n",
       "      <td>138582</td>\n",
       "      <td>61.5</td>\n",
       "    </tr>\n",
       "    <tr>\n",
       "      <th>3</th>\n",
       "      <td>ALH02</td>\n",
       "      <td>False</td>\n",
       "      <td>False</td>\n",
       "      <td>Tabitha</td>\n",
       "      <td>Isner</td>\n",
       "      <td>female</td>\n",
       "      <td>D</td>\n",
       "      <td>False</td>\n",
       "      <td>86581</td>\n",
       "      <td>38.5</td>\n",
       "    </tr>\n",
       "    <tr>\n",
       "      <th>4</th>\n",
       "      <td>ALH03</td>\n",
       "      <td>False</td>\n",
       "      <td>False</td>\n",
       "      <td>Mike</td>\n",
       "      <td>Rogers</td>\n",
       "      <td>male</td>\n",
       "      <td>R</td>\n",
       "      <td>True</td>\n",
       "      <td>147481</td>\n",
       "      <td>63.8</td>\n",
       "    </tr>\n",
       "  </tbody>\n",
       "</table>\n",
       "</div>"
      ],
      "text/plain": [
       "  raceid  keyrace  uncontested    first     last  gender party  winner  \\\n",
       "0  ALH01    False        False  Bradley    Byrne    male     R    True   \n",
       "1  ALH01    False        False   Robert  Kennedy    male     D   False   \n",
       "2  ALH02    False        False   Martha     Roby  female     R    True   \n",
       "3  ALH02    False        False  Tabitha    Isner  female     D   False   \n",
       "4  ALH03    False        False     Mike   Rogers    male     R    True   \n",
       "\n",
       "    votes   pct  \n",
       "0  152308  63.3  \n",
       "1   88365  36.7  \n",
       "2  138582  61.5  \n",
       "3   86581  38.5  \n",
       "4  147481  63.8  "
      ]
     },
     "execution_count": 27,
     "metadata": {},
     "output_type": "execute_result"
    }
   ],
   "source": [
    "#preview df\n",
    "print(election2018.shape)\n",
    "election2018.head()"
   ]
  },
  {
   "cell_type": "code",
   "execution_count": 28,
   "metadata": {},
   "outputs": [],
   "source": [
    "#rename columns\n",
    "election2018.columns = ['district', 'keyrace', 'uncontested','first','last',\n",
    "                        'gender','party','winner','votes','pct']"
   ]
  },
  {
   "cell_type": "code",
   "execution_count": 29,
   "metadata": {},
   "outputs": [],
   "source": [
    "#reformatting district column\n",
    "election2018.district = election2018.district.str.replace('([A-Z]{2})H',r'\\1-')"
   ]
  },
  {
   "cell_type": "code",
   "execution_count": 30,
   "metadata": {},
   "outputs": [
    {
     "data": {
      "text/plain": [
       "412"
      ]
     },
     "execution_count": 30,
     "metadata": {},
     "output_type": "execute_result"
    }
   ],
   "source": [
    "#seeing how many unique districts are in the df\n",
    "#missing 23 districts\n",
    "election2018.district.nunique()"
   ]
  },
  {
   "cell_type": "markdown",
   "metadata": {},
   "source": [
    "### 2016"
   ]
  },
  {
   "cell_type": "code",
   "execution_count": 31,
   "metadata": {},
   "outputs": [],
   "source": [
    "#importing data\n",
    "elections_1976_2016 = pd.read_csv('./data/election_results_76-16/1976-2016-house.csv')"
   ]
  },
  {
   "cell_type": "code",
   "execution_count": 32,
   "metadata": {},
   "outputs": [
    {
     "name": "stdout",
     "output_type": "stream",
     "text": [
      "(28272, 16)\n"
     ]
    },
    {
     "data": {
      "text/html": [
       "<div>\n",
       "<style scoped>\n",
       "    .dataframe tbody tr th:only-of-type {\n",
       "        vertical-align: middle;\n",
       "    }\n",
       "\n",
       "    .dataframe tbody tr th {\n",
       "        vertical-align: top;\n",
       "    }\n",
       "\n",
       "    .dataframe thead th {\n",
       "        text-align: right;\n",
       "    }\n",
       "</style>\n",
       "<table border=\"1\" class=\"dataframe\">\n",
       "  <thead>\n",
       "    <tr style=\"text-align: right;\">\n",
       "      <th></th>\n",
       "      <th>year</th>\n",
       "      <th>state</th>\n",
       "      <th>state_po</th>\n",
       "      <th>state_fips</th>\n",
       "      <th>state_cen</th>\n",
       "      <th>state_ic</th>\n",
       "      <th>office</th>\n",
       "      <th>district</th>\n",
       "      <th>stage</th>\n",
       "      <th>special</th>\n",
       "      <th>candidate</th>\n",
       "      <th>party</th>\n",
       "      <th>writein</th>\n",
       "      <th>candidatevotes</th>\n",
       "      <th>totalvotes</th>\n",
       "      <th>version</th>\n",
       "    </tr>\n",
       "  </thead>\n",
       "  <tbody>\n",
       "    <tr>\n",
       "      <th>0</th>\n",
       "      <td>1990</td>\n",
       "      <td>Alaska</td>\n",
       "      <td>AK</td>\n",
       "      <td>2</td>\n",
       "      <td>94</td>\n",
       "      <td>81</td>\n",
       "      <td>US House</td>\n",
       "      <td>0</td>\n",
       "      <td>gen</td>\n",
       "      <td>False</td>\n",
       "      <td>John S. Devens</td>\n",
       "      <td>democrat</td>\n",
       "      <td>False</td>\n",
       "      <td>91677</td>\n",
       "      <td>191647</td>\n",
       "      <td>20171005</td>\n",
       "    </tr>\n",
       "    <tr>\n",
       "      <th>1</th>\n",
       "      <td>2016</td>\n",
       "      <td>Alaska</td>\n",
       "      <td>AK</td>\n",
       "      <td>2</td>\n",
       "      <td>94</td>\n",
       "      <td>81</td>\n",
       "      <td>US House</td>\n",
       "      <td>0</td>\n",
       "      <td>gen</td>\n",
       "      <td>False</td>\n",
       "      <td>Bernie Souphanavong</td>\n",
       "      <td>none</td>\n",
       "      <td>False</td>\n",
       "      <td>9093</td>\n",
       "      <td>308198</td>\n",
       "      <td>20171005</td>\n",
       "    </tr>\n",
       "    <tr>\n",
       "      <th>2</th>\n",
       "      <td>2006</td>\n",
       "      <td>Alaska</td>\n",
       "      <td>AK</td>\n",
       "      <td>2</td>\n",
       "      <td>94</td>\n",
       "      <td>81</td>\n",
       "      <td>US House</td>\n",
       "      <td>0</td>\n",
       "      <td>gen</td>\n",
       "      <td>False</td>\n",
       "      <td>Alexander Crawford</td>\n",
       "      <td>libertarian</td>\n",
       "      <td>False</td>\n",
       "      <td>4029</td>\n",
       "      <td>234645</td>\n",
       "      <td>20171005</td>\n",
       "    </tr>\n",
       "    <tr>\n",
       "      <th>3</th>\n",
       "      <td>1984</td>\n",
       "      <td>Alaska</td>\n",
       "      <td>AK</td>\n",
       "      <td>2</td>\n",
       "      <td>94</td>\n",
       "      <td>81</td>\n",
       "      <td>US House</td>\n",
       "      <td>0</td>\n",
       "      <td>gen</td>\n",
       "      <td>False</td>\n",
       "      <td>Donald E. Young</td>\n",
       "      <td>republican</td>\n",
       "      <td>False</td>\n",
       "      <td>113582</td>\n",
       "      <td>206437</td>\n",
       "      <td>20171005</td>\n",
       "    </tr>\n",
       "    <tr>\n",
       "      <th>4</th>\n",
       "      <td>2016</td>\n",
       "      <td>Alaska</td>\n",
       "      <td>AK</td>\n",
       "      <td>2</td>\n",
       "      <td>94</td>\n",
       "      <td>81</td>\n",
       "      <td>US House</td>\n",
       "      <td>0</td>\n",
       "      <td>gen</td>\n",
       "      <td>False</td>\n",
       "      <td>Don Young</td>\n",
       "      <td>republican</td>\n",
       "      <td>False</td>\n",
       "      <td>155088</td>\n",
       "      <td>308198</td>\n",
       "      <td>20171005</td>\n",
       "    </tr>\n",
       "  </tbody>\n",
       "</table>\n",
       "</div>"
      ],
      "text/plain": [
       "   year   state state_po  state_fips  state_cen  state_ic    office  district  \\\n",
       "0  1990  Alaska       AK           2         94        81  US House         0   \n",
       "1  2016  Alaska       AK           2         94        81  US House         0   \n",
       "2  2006  Alaska       AK           2         94        81  US House         0   \n",
       "3  1984  Alaska       AK           2         94        81  US House         0   \n",
       "4  2016  Alaska       AK           2         94        81  US House         0   \n",
       "\n",
       "  stage  special            candidate        party  writein  candidatevotes  \\\n",
       "0   gen    False       John S. Devens     democrat    False           91677   \n",
       "1   gen    False  Bernie Souphanavong         none    False            9093   \n",
       "2   gen    False   Alexander Crawford  libertarian    False            4029   \n",
       "3   gen    False      Donald E. Young   republican    False          113582   \n",
       "4   gen    False            Don Young   republican    False          155088   \n",
       "\n",
       "   totalvotes   version  \n",
       "0      191647  20171005  \n",
       "1      308198  20171005  \n",
       "2      234645  20171005  \n",
       "3      206437  20171005  \n",
       "4      308198  20171005  "
      ]
     },
     "execution_count": 32,
     "metadata": {},
     "output_type": "execute_result"
    }
   ],
   "source": [
    "#preview df\n",
    "print(elections_1976_2016.shape)\n",
    "elections_1976_2016.head()"
   ]
  },
  {
   "cell_type": "code",
   "execution_count": 33,
   "metadata": {},
   "outputs": [],
   "source": [
    "#splitting out 2016\n",
    "election2016 = elections_1976_2016[(elections_1976_2016['year']==2016) & (elections_1976_2016['office']=='US House')]"
   ]
  },
  {
   "cell_type": "code",
   "execution_count": 34,
   "metadata": {},
   "outputs": [
    {
     "name": "stderr",
     "output_type": "stream",
     "text": [
      "/anaconda3/envs/py36/lib/python3.6/site-packages/ipykernel_launcher.py:2: SettingWithCopyWarning: \n",
      "A value is trying to be set on a copy of a slice from a DataFrame.\n",
      "Try using .loc[row_indexer,col_indexer] = value instead\n",
      "\n",
      "See the caveats in the documentation: http://pandas.pydata.org/pandas-docs/stable/indexing.html#indexing-view-versus-copy\n",
      "  \n"
     ]
    }
   ],
   "source": [
    "#new vote percentage column\n",
    "election2016['vote%'] = election2016['candidatevotes'] / election2016['totalvotes']"
   ]
  },
  {
   "cell_type": "code",
   "execution_count": 35,
   "metadata": {},
   "outputs": [
    {
     "name": "stdout",
     "output_type": "stream",
     "text": [
      "(1441, 17)\n"
     ]
    },
    {
     "data": {
      "text/html": [
       "<div>\n",
       "<style scoped>\n",
       "    .dataframe tbody tr th:only-of-type {\n",
       "        vertical-align: middle;\n",
       "    }\n",
       "\n",
       "    .dataframe tbody tr th {\n",
       "        vertical-align: top;\n",
       "    }\n",
       "\n",
       "    .dataframe thead th {\n",
       "        text-align: right;\n",
       "    }\n",
       "</style>\n",
       "<table border=\"1\" class=\"dataframe\">\n",
       "  <thead>\n",
       "    <tr style=\"text-align: right;\">\n",
       "      <th></th>\n",
       "      <th>year</th>\n",
       "      <th>state</th>\n",
       "      <th>state_po</th>\n",
       "      <th>state_fips</th>\n",
       "      <th>state_cen</th>\n",
       "      <th>state_ic</th>\n",
       "      <th>office</th>\n",
       "      <th>district</th>\n",
       "      <th>stage</th>\n",
       "      <th>special</th>\n",
       "      <th>candidate</th>\n",
       "      <th>party</th>\n",
       "      <th>writein</th>\n",
       "      <th>candidatevotes</th>\n",
       "      <th>totalvotes</th>\n",
       "      <th>version</th>\n",
       "      <th>vote%</th>\n",
       "    </tr>\n",
       "  </thead>\n",
       "  <tbody>\n",
       "    <tr>\n",
       "      <th>1</th>\n",
       "      <td>2016</td>\n",
       "      <td>Alaska</td>\n",
       "      <td>AK</td>\n",
       "      <td>2</td>\n",
       "      <td>94</td>\n",
       "      <td>81</td>\n",
       "      <td>US House</td>\n",
       "      <td>0</td>\n",
       "      <td>gen</td>\n",
       "      <td>False</td>\n",
       "      <td>Bernie Souphanavong</td>\n",
       "      <td>none</td>\n",
       "      <td>False</td>\n",
       "      <td>9093</td>\n",
       "      <td>308198</td>\n",
       "      <td>20171005</td>\n",
       "      <td>0.029504</td>\n",
       "    </tr>\n",
       "    <tr>\n",
       "      <th>4</th>\n",
       "      <td>2016</td>\n",
       "      <td>Alaska</td>\n",
       "      <td>AK</td>\n",
       "      <td>2</td>\n",
       "      <td>94</td>\n",
       "      <td>81</td>\n",
       "      <td>US House</td>\n",
       "      <td>0</td>\n",
       "      <td>gen</td>\n",
       "      <td>False</td>\n",
       "      <td>Don Young</td>\n",
       "      <td>republican</td>\n",
       "      <td>False</td>\n",
       "      <td>155088</td>\n",
       "      <td>308198</td>\n",
       "      <td>20171005</td>\n",
       "      <td>0.503209</td>\n",
       "    </tr>\n",
       "    <tr>\n",
       "      <th>33</th>\n",
       "      <td>2016</td>\n",
       "      <td>Alaska</td>\n",
       "      <td>AK</td>\n",
       "      <td>2</td>\n",
       "      <td>94</td>\n",
       "      <td>81</td>\n",
       "      <td>US House</td>\n",
       "      <td>0</td>\n",
       "      <td>gen</td>\n",
       "      <td>False</td>\n",
       "      <td>NaN</td>\n",
       "      <td>NaN</td>\n",
       "      <td>True</td>\n",
       "      <td>1228</td>\n",
       "      <td>308198</td>\n",
       "      <td>20171005</td>\n",
       "      <td>0.003984</td>\n",
       "    </tr>\n",
       "    <tr>\n",
       "      <th>63</th>\n",
       "      <td>2016</td>\n",
       "      <td>Alaska</td>\n",
       "      <td>AK</td>\n",
       "      <td>2</td>\n",
       "      <td>94</td>\n",
       "      <td>81</td>\n",
       "      <td>US House</td>\n",
       "      <td>0</td>\n",
       "      <td>gen</td>\n",
       "      <td>False</td>\n",
       "      <td>Steve Lindbeck</td>\n",
       "      <td>democrat</td>\n",
       "      <td>False</td>\n",
       "      <td>111019</td>\n",
       "      <td>308198</td>\n",
       "      <td>20171005</td>\n",
       "      <td>0.360220</td>\n",
       "    </tr>\n",
       "    <tr>\n",
       "      <th>71</th>\n",
       "      <td>2016</td>\n",
       "      <td>Alaska</td>\n",
       "      <td>AK</td>\n",
       "      <td>2</td>\n",
       "      <td>94</td>\n",
       "      <td>81</td>\n",
       "      <td>US House</td>\n",
       "      <td>0</td>\n",
       "      <td>gen</td>\n",
       "      <td>False</td>\n",
       "      <td>Jim C. McDermott</td>\n",
       "      <td>libertarian</td>\n",
       "      <td>False</td>\n",
       "      <td>31770</td>\n",
       "      <td>308198</td>\n",
       "      <td>20171005</td>\n",
       "      <td>0.103083</td>\n",
       "    </tr>\n",
       "  </tbody>\n",
       "</table>\n",
       "</div>"
      ],
      "text/plain": [
       "    year   state state_po  state_fips  state_cen  state_ic    office  \\\n",
       "1   2016  Alaska       AK           2         94        81  US House   \n",
       "4   2016  Alaska       AK           2         94        81  US House   \n",
       "33  2016  Alaska       AK           2         94        81  US House   \n",
       "63  2016  Alaska       AK           2         94        81  US House   \n",
       "71  2016  Alaska       AK           2         94        81  US House   \n",
       "\n",
       "    district stage  special            candidate        party  writein  \\\n",
       "1          0   gen    False  Bernie Souphanavong         none    False   \n",
       "4          0   gen    False            Don Young   republican    False   \n",
       "33         0   gen    False                  NaN          NaN     True   \n",
       "63         0   gen    False       Steve Lindbeck     democrat    False   \n",
       "71         0   gen    False     Jim C. McDermott  libertarian    False   \n",
       "\n",
       "    candidatevotes  totalvotes   version     vote%  \n",
       "1             9093      308198  20171005  0.029504  \n",
       "4           155088      308198  20171005  0.503209  \n",
       "33            1228      308198  20171005  0.003984  \n",
       "63          111019      308198  20171005  0.360220  \n",
       "71           31770      308198  20171005  0.103083  "
      ]
     },
     "execution_count": 35,
     "metadata": {},
     "output_type": "execute_result"
    }
   ],
   "source": [
    "#preview df\n",
    "print(election2016.shape)\n",
    "election2016.head()"
   ]
  },
  {
   "cell_type": "code",
   "execution_count": 36,
   "metadata": {},
   "outputs": [],
   "source": [
    "#changing 0 districts to 1\n",
    "election2016.district = election2016.district.replace(to_replace=0,value=1)"
   ]
  },
  {
   "cell_type": "code",
   "execution_count": 37,
   "metadata": {},
   "outputs": [],
   "source": [
    "#changing it to a str\n",
    "election2016.district = election2016.district.astype(str)"
   ]
  },
  {
   "cell_type": "code",
   "execution_count": 38,
   "metadata": {},
   "outputs": [],
   "source": [
    "#formatting the district\n",
    "election2016.district = election2016.state_po + '-' + election2016.district"
   ]
  },
  {
   "cell_type": "code",
   "execution_count": 39,
   "metadata": {},
   "outputs": [],
   "source": [
    "#adding a zero before the single digit districts \n",
    "election2016.district = election2016.district.str.replace('-(\\d{1})$',r'-0\\1')"
   ]
  },
  {
   "cell_type": "markdown",
   "metadata": {},
   "source": [
    "## Fixing 2018 districts"
   ]
  },
  {
   "cell_type": "code",
   "execution_count": 40,
   "metadata": {},
   "outputs": [],
   "source": [
    "#list of all the districts that are in the 2016 dataset\n",
    "election2016_districts = election2016.district.sort_values().unique().tolist()"
   ]
  },
  {
   "cell_type": "code",
   "execution_count": 41,
   "metadata": {},
   "outputs": [],
   "source": [
    "#list of all the districts that are in the 2018 dataset\n",
    "election2018_districts = election2018.district.sort_values().unique().tolist()"
   ]
  },
  {
   "cell_type": "code",
   "execution_count": 42,
   "metadata": {
    "scrolled": true
   },
   "outputs": [
    {
     "name": "stdout",
     "output_type": "stream",
     "text": [
      "23\n"
     ]
    },
    {
     "data": {
      "text/plain": [
       "['IA-01',\n",
       " 'IA-02',\n",
       " 'IA-03',\n",
       " 'IA-04',\n",
       " 'IN-01',\n",
       " 'IN-02',\n",
       " 'IN-03',\n",
       " 'IN-04',\n",
       " 'IN-05',\n",
       " 'IN-06',\n",
       " 'IN-07',\n",
       " 'IN-08',\n",
       " 'IN-09',\n",
       " 'KS-01',\n",
       " 'KS-02',\n",
       " 'KS-03',\n",
       " 'KS-04',\n",
       " 'KY-01',\n",
       " 'KY-02',\n",
       " 'KY-03',\n",
       " 'KY-04',\n",
       " 'KY-05',\n",
       " 'KY-06']"
      ]
     },
     "execution_count": 42,
     "metadata": {},
     "output_type": "execute_result"
    }
   ],
   "source": [
    "#districts not in the 2018 dataset\n",
    "different_districts = np.setdiff1d(election2016_districts,election2018_districts).tolist()\n",
    "print(len(different_districts))\n",
    "different_districts"
   ]
  },
  {
   "cell_type": "code",
   "execution_count": 43,
   "metadata": {},
   "outputs": [],
   "source": [
    "#missing 2018 districts entered by hand\n",
    "missing_2018districts = pd.DataFrame(data = \n",
    "                    [['IA-01',False,False,'Abby','Finkenauer','female','D',True,170342,51.0],\n",
    "                    ['IA-01',False,False,'Rod','Blum','male','R',False,153442,45.9],\n",
    "                    ['IA-02',False,False,'Dave','Loebsack','male','D',True,171446,54.8],\n",
    "                    ['IA-02',False,False,'Christopher','Peters','male','R',False,133287,42.6],\n",
    "                    ['IA-03',False,False,'Cindy','Axne','female','D',True,175642,49.3],\n",
    "                    ['IA-03',False,False,'David','Young','male','R',False,167933,47.2],\n",
    "                    ['IA-04',False,False,'Steve','King','male','R',True,157676,50.4],\n",
    "                    ['IA-04',False,False,'J.D.','Scholten','male','D',False,147246,47.0],\n",
    "                    ['IN-01',False,False,'Peter','Visclosky','male','D',True,159611,65.1],\n",
    "                    ['IN-01',False,False,'Mark','Leyva','male','R',False,85594,34.9],\n",
    "                    ['IN-02',False,False,'Jackie','Walorski','female','R',True,125499,54.8],\n",
    "                    ['IN-02',False,False,'Mel','Hall','male','D',False,103363,45.2],\n",
    "                    ['IN-03',False,False,'Jim','Banks','male','R',True,158927,64.7],\n",
    "                    ['IN-03',False,False,'Courtney','Tritch','female','D',False,86610,35.3],\n",
    "                    ['IN-04',False,False,'Jim','Baird','male','R',True,156539,64.1],\n",
    "                    ['IN-04',False,False,'Tobi','Beck','male','D',False,87824,35.9],\n",
    "                    ['IN-05',False,False,'Susan','Brooks','female','R',True,180035,56.8],\n",
    "                    ['IN-05',False,False,'Dee','Thornton','female','D',False,137142,43.2],\n",
    "                    ['IN-06',False,False,'Greg','Pence','male','R',True,154260,63.8],\n",
    "                    ['IN-06',False,False,'Jeannine','Lake','female','D',False,79430,32.9],\n",
    "                    ['IN-07',False,False,'André','Carson','male','D',True,141139,64.9],\n",
    "                    ['IN-07',False,False,'Wayne','Harmon','male','R',False,76457,35.1],\n",
    "                    ['IN-08',False,False,'Larry','Bucshon','male','R',True,157396,64.4],\n",
    "                    ['IN-08',False,False,'William','Tanoos','male','D',False,86895,35.6],\n",
    "                    ['IN-09',False,False,'Trey','Hollingsworth','male','R',True,153271,56.5],\n",
    "                    ['IN-09',False,False,'Liz','Watson','female','D',False,118090,43.5],\n",
    "                    ['KS-01',False,False,'Roger','Marshall','male','R',True,153082,68.1],\n",
    "                    ['KS-01',False,False,'Alan','LaPolice','male','D',False,71558,31.9],\n",
    "                    ['KS-02',False,False,'Steve','Watkins','male','R',True,126098,47.6],\n",
    "                    ['KS-02',False,False,'Paul','Davis','male','D',False,123859,46.8],\n",
    "                    ['KS-03',False,False,'Sharice','Davids','female','D',True,170518,53.6],\n",
    "                    ['KS-03',False,False,'Kevin','Yoder','male','R',False,139762,43.9],\n",
    "                    ['KS-04',False,False,'Ron','Estes','male','R',True,143459,59.3],\n",
    "                    ['KS-04',False,False,'James','Thompson','male','D',False,98304,40.7],\n",
    "                    ['KY-01',False,False,'James','Comer','male','R',True,172167,68.6],\n",
    "                    ['KY-01',False,False,'Paul','Walker','male','D',False,78849,31.4],\n",
    "                    ['KY-02',False,False,'Brett','Guthrie','male','R',True,171700,66.7],\n",
    "                    ['KY-02',False,False,'Hank','Linderman','male','D',False,79964,31.1],\n",
    "                    ['KY-03',False,False,'John','Yarmouth','male','D',True,173002,62.1],\n",
    "                    ['KY-03',False,False,'Vickie','Gibson','female','R',False,101930,36.6],\n",
    "                    ['KY-04',False,False,'Thomas','Massie','male','R',True,162946,62.2],\n",
    "                    ['KY-04',False,False,'Seth','Hall','male','D',False,90536,34.6],\n",
    "                    ['KY-05',False,False,'Harold','Rogers','male','R',True,172093,78.9],\n",
    "                    ['KY-05',False,False,'Kenneth','Stepp','male','D',False,45890,21.1],\n",
    "                    ['KY-06',False,False,'Andy','Barr','male','R',True,154468,51.0],\n",
    "                    ['KY-06',False,False,'Amy','McGrath','female','D',False,144736,47.8]]\n",
    "                    ,columns = election2018.columns)"
   ]
  },
  {
   "cell_type": "code",
   "execution_count": 44,
   "metadata": {},
   "outputs": [
    {
     "data": {
      "text/plain": [
       "46"
      ]
     },
     "execution_count": 44,
     "metadata": {},
     "output_type": "execute_result"
    }
   ],
   "source": [
    "#length of missing districts which is double the missing districts because 2 candidates\n",
    "len(missing_2018districts)"
   ]
  },
  {
   "cell_type": "code",
   "execution_count": 45,
   "metadata": {},
   "outputs": [],
   "source": [
    "#merging missing 2018 districts with rest of 2018 df\n",
    "election2018 = pd.concat([election2018,missing_2018districts],axis=0)"
   ]
  },
  {
   "cell_type": "code",
   "execution_count": 46,
   "metadata": {},
   "outputs": [
    {
     "data": {
      "text/plain": [
       "435"
      ]
     },
     "execution_count": 46,
     "metadata": {},
     "output_type": "execute_result"
    }
   ],
   "source": [
    "#number of unique districts in 2018 df\n",
    "\n",
    "election2018.district.nunique()"
   ]
  },
  {
   "cell_type": "markdown",
   "metadata": {},
   "source": [
    "## Filtering out Election Winners"
   ]
  },
  {
   "cell_type": "code",
   "execution_count": 47,
   "metadata": {},
   "outputs": [],
   "source": [
    "election2018_winners = election2018[election2018.winner == True].drop_duplicates()\n",
    "\n",
    "election2018_winners_districts = election2018_winners.district.sort_values().unique().tolist()"
   ]
  },
  {
   "cell_type": "code",
   "execution_count": 48,
   "metadata": {},
   "outputs": [
    {
     "name": "stdout",
     "output_type": "stream",
     "text": [
      "3\n"
     ]
    },
    {
     "data": {
      "text/plain": [
       "['GA-07', 'NM-02', 'UT-04']"
      ]
     },
     "execution_count": 48,
     "metadata": {},
     "output_type": "execute_result"
    }
   ],
   "source": [
    "#the districts where there were no winners\n",
    "no_winner_districts = np.setdiff1d(election2016_districts,election2018_winners_districts).tolist()\n",
    "print(len(no_winner_districts))\n",
    "no_winner_districts"
   ]
  },
  {
   "cell_type": "code",
   "execution_count": 49,
   "metadata": {},
   "outputs": [
    {
     "data": {
      "text/html": [
       "<div>\n",
       "<style scoped>\n",
       "    .dataframe tbody tr th:only-of-type {\n",
       "        vertical-align: middle;\n",
       "    }\n",
       "\n",
       "    .dataframe tbody tr th {\n",
       "        vertical-align: top;\n",
       "    }\n",
       "\n",
       "    .dataframe thead th {\n",
       "        text-align: right;\n",
       "    }\n",
       "</style>\n",
       "<table border=\"1\" class=\"dataframe\">\n",
       "  <thead>\n",
       "    <tr style=\"text-align: right;\">\n",
       "      <th></th>\n",
       "      <th>district</th>\n",
       "      <th>keyrace</th>\n",
       "      <th>uncontested</th>\n",
       "      <th>first</th>\n",
       "      <th>last</th>\n",
       "      <th>gender</th>\n",
       "      <th>party</th>\n",
       "      <th>winner</th>\n",
       "      <th>votes</th>\n",
       "      <th>pct</th>\n",
       "    </tr>\n",
       "  </thead>\n",
       "  <tbody>\n",
       "    <tr>\n",
       "      <th>233</th>\n",
       "      <td>GA-07</td>\n",
       "      <td>True</td>\n",
       "      <td>False</td>\n",
       "      <td>Rob</td>\n",
       "      <td>Woodall</td>\n",
       "      <td>male</td>\n",
       "      <td>R</td>\n",
       "      <td>False</td>\n",
       "      <td>140430</td>\n",
       "      <td>50.1</td>\n",
       "    </tr>\n",
       "    <tr>\n",
       "      <th>234</th>\n",
       "      <td>GA-07</td>\n",
       "      <td>True</td>\n",
       "      <td>False</td>\n",
       "      <td>Carolyn</td>\n",
       "      <td>Bourdeaux</td>\n",
       "      <td>female</td>\n",
       "      <td>D</td>\n",
       "      <td>False</td>\n",
       "      <td>140011</td>\n",
       "      <td>49.9</td>\n",
       "    </tr>\n",
       "  </tbody>\n",
       "</table>\n",
       "</div>"
      ],
      "text/plain": [
       "    district  keyrace  uncontested    first       last  gender party  winner  \\\n",
       "233    GA-07     True        False      Rob    Woodall    male     R   False   \n",
       "234    GA-07     True        False  Carolyn  Bourdeaux  female     D   False   \n",
       "\n",
       "      votes   pct  \n",
       "233  140430  50.1  \n",
       "234  140011  49.9  "
      ]
     },
     "execution_count": 49,
     "metadata": {},
     "output_type": "execute_result"
    }
   ],
   "source": [
    "#too close to call on election night but Woodall won\n",
    "election2018[election2018.district == 'GA-07']"
   ]
  },
  {
   "cell_type": "code",
   "execution_count": 50,
   "metadata": {},
   "outputs": [],
   "source": [
    "#changing status to win\n",
    "election2018.loc[election2018['last']=='Woodall', 'winner'] = True"
   ]
  },
  {
   "cell_type": "code",
   "execution_count": 51,
   "metadata": {},
   "outputs": [
    {
     "data": {
      "text/html": [
       "<div>\n",
       "<style scoped>\n",
       "    .dataframe tbody tr th:only-of-type {\n",
       "        vertical-align: middle;\n",
       "    }\n",
       "\n",
       "    .dataframe tbody tr th {\n",
       "        vertical-align: top;\n",
       "    }\n",
       "\n",
       "    .dataframe thead th {\n",
       "        text-align: right;\n",
       "    }\n",
       "</style>\n",
       "<table border=\"1\" class=\"dataframe\">\n",
       "  <thead>\n",
       "    <tr style=\"text-align: right;\">\n",
       "      <th></th>\n",
       "      <th>district</th>\n",
       "      <th>keyrace</th>\n",
       "      <th>uncontested</th>\n",
       "      <th>first</th>\n",
       "      <th>last</th>\n",
       "      <th>gender</th>\n",
       "      <th>party</th>\n",
       "      <th>winner</th>\n",
       "      <th>votes</th>\n",
       "      <th>pct</th>\n",
       "    </tr>\n",
       "  </thead>\n",
       "  <tbody>\n",
       "    <tr>\n",
       "      <th>538</th>\n",
       "      <td>NM-02</td>\n",
       "      <td>True</td>\n",
       "      <td>False</td>\n",
       "      <td>Xochitl</td>\n",
       "      <td>Torres Small</td>\n",
       "      <td>female</td>\n",
       "      <td>D</td>\n",
       "      <td>False</td>\n",
       "      <td>101481</td>\n",
       "      <td>50.9</td>\n",
       "    </tr>\n",
       "    <tr>\n",
       "      <th>539</th>\n",
       "      <td>NM-02</td>\n",
       "      <td>True</td>\n",
       "      <td>False</td>\n",
       "      <td>Yvette</td>\n",
       "      <td>Herrell</td>\n",
       "      <td>female</td>\n",
       "      <td>R</td>\n",
       "      <td>False</td>\n",
       "      <td>97767</td>\n",
       "      <td>49.1</td>\n",
       "    </tr>\n",
       "  </tbody>\n",
       "</table>\n",
       "</div>"
      ],
      "text/plain": [
       "    district  keyrace  uncontested    first          last  gender party  \\\n",
       "538    NM-02     True        False  Xochitl  Torres Small  female     D   \n",
       "539    NM-02     True        False   Yvette       Herrell  female     R   \n",
       "\n",
       "     winner   votes   pct  \n",
       "538   False  101481  50.9  \n",
       "539   False   97767  49.1  "
      ]
     },
     "execution_count": 51,
     "metadata": {},
     "output_type": "execute_result"
    }
   ],
   "source": [
    "#Torres Small won\n",
    "election2018[election2018.district == 'NM-02']"
   ]
  },
  {
   "cell_type": "code",
   "execution_count": 52,
   "metadata": {},
   "outputs": [],
   "source": [
    "#changing status to win\n",
    "election2018.loc[election2018['last']=='Torres Small', 'winner'] = True"
   ]
  },
  {
   "cell_type": "code",
   "execution_count": 53,
   "metadata": {},
   "outputs": [
    {
     "data": {
      "text/html": [
       "<div>\n",
       "<style scoped>\n",
       "    .dataframe tbody tr th:only-of-type {\n",
       "        vertical-align: middle;\n",
       "    }\n",
       "\n",
       "    .dataframe tbody tr th {\n",
       "        vertical-align: top;\n",
       "    }\n",
       "\n",
       "    .dataframe thead th {\n",
       "        text-align: right;\n",
       "    }\n",
       "</style>\n",
       "<table border=\"1\" class=\"dataframe\">\n",
       "  <thead>\n",
       "    <tr style=\"text-align: right;\">\n",
       "      <th></th>\n",
       "      <th>district</th>\n",
       "      <th>keyrace</th>\n",
       "      <th>uncontested</th>\n",
       "      <th>first</th>\n",
       "      <th>last</th>\n",
       "      <th>gender</th>\n",
       "      <th>party</th>\n",
       "      <th>winner</th>\n",
       "      <th>votes</th>\n",
       "      <th>pct</th>\n",
       "    </tr>\n",
       "  </thead>\n",
       "  <tbody>\n",
       "    <tr>\n",
       "      <th>827</th>\n",
       "      <td>UT-04</td>\n",
       "      <td>True</td>\n",
       "      <td>False</td>\n",
       "      <td>Ben</td>\n",
       "      <td>McAdams</td>\n",
       "      <td>male</td>\n",
       "      <td>D</td>\n",
       "      <td>False</td>\n",
       "      <td>134964</td>\n",
       "      <td>50.1</td>\n",
       "    </tr>\n",
       "    <tr>\n",
       "      <th>828</th>\n",
       "      <td>UT-04</td>\n",
       "      <td>True</td>\n",
       "      <td>False</td>\n",
       "      <td>Mia</td>\n",
       "      <td>Love</td>\n",
       "      <td>female</td>\n",
       "      <td>R</td>\n",
       "      <td>False</td>\n",
       "      <td>134270</td>\n",
       "      <td>49.9</td>\n",
       "    </tr>\n",
       "  </tbody>\n",
       "</table>\n",
       "</div>"
      ],
      "text/plain": [
       "    district  keyrace  uncontested first     last  gender party  winner  \\\n",
       "827    UT-04     True        False   Ben  McAdams    male     D   False   \n",
       "828    UT-04     True        False   Mia     Love  female     R   False   \n",
       "\n",
       "      votes   pct  \n",
       "827  134964  50.1  \n",
       "828  134270  49.9  "
      ]
     },
     "execution_count": 53,
     "metadata": {},
     "output_type": "execute_result"
    }
   ],
   "source": [
    "#McAdams Won\n",
    "election2018[election2018.district == 'UT-04']"
   ]
  },
  {
   "cell_type": "code",
   "execution_count": 54,
   "metadata": {},
   "outputs": [],
   "source": [
    "#changing status to win\n",
    "election2018.loc[(election2018['first'] == 'Ben') & (election2018['last'] == 'McAdams'),'winner'] = True"
   ]
  },
  {
   "cell_type": "code",
   "execution_count": 55,
   "metadata": {},
   "outputs": [],
   "source": [
    "election2018_winners = election2018[election2018.winner == True].drop_duplicates()"
   ]
  },
  {
   "cell_type": "code",
   "execution_count": 56,
   "metadata": {},
   "outputs": [
    {
     "data": {
      "text/plain": [
       "435"
      ]
     },
     "execution_count": 56,
     "metadata": {},
     "output_type": "execute_result"
    }
   ],
   "source": [
    "#finally have 435 district winners!\n",
    "election2018_winners.district.nunique()"
   ]
  },
  {
   "cell_type": "markdown",
   "metadata": {},
   "source": [
    "## Final cleaning up of dataframe"
   ]
  },
  {
   "cell_type": "code",
   "execution_count": 57,
   "metadata": {},
   "outputs": [
    {
     "data": {
      "text/html": [
       "<div>\n",
       "<style scoped>\n",
       "    .dataframe tbody tr th:only-of-type {\n",
       "        vertical-align: middle;\n",
       "    }\n",
       "\n",
       "    .dataframe tbody tr th {\n",
       "        vertical-align: top;\n",
       "    }\n",
       "\n",
       "    .dataframe thead th {\n",
       "        text-align: right;\n",
       "    }\n",
       "</style>\n",
       "<table border=\"1\" class=\"dataframe\">\n",
       "  <thead>\n",
       "    <tr style=\"text-align: right;\">\n",
       "      <th></th>\n",
       "      <th>district</th>\n",
       "      <th>keyrace</th>\n",
       "      <th>uncontested</th>\n",
       "      <th>first</th>\n",
       "      <th>last</th>\n",
       "      <th>gender</th>\n",
       "      <th>party</th>\n",
       "      <th>winner</th>\n",
       "      <th>votes</th>\n",
       "      <th>pct</th>\n",
       "    </tr>\n",
       "  </thead>\n",
       "  <tbody>\n",
       "    <tr>\n",
       "      <th>0</th>\n",
       "      <td>AL-01</td>\n",
       "      <td>False</td>\n",
       "      <td>False</td>\n",
       "      <td>Bradley</td>\n",
       "      <td>Byrne</td>\n",
       "      <td>male</td>\n",
       "      <td>R</td>\n",
       "      <td>True</td>\n",
       "      <td>152308</td>\n",
       "      <td>63.3</td>\n",
       "    </tr>\n",
       "    <tr>\n",
       "      <th>2</th>\n",
       "      <td>AL-02</td>\n",
       "      <td>False</td>\n",
       "      <td>False</td>\n",
       "      <td>Martha</td>\n",
       "      <td>Roby</td>\n",
       "      <td>female</td>\n",
       "      <td>R</td>\n",
       "      <td>True</td>\n",
       "      <td>138582</td>\n",
       "      <td>61.5</td>\n",
       "    </tr>\n",
       "    <tr>\n",
       "      <th>4</th>\n",
       "      <td>AL-03</td>\n",
       "      <td>False</td>\n",
       "      <td>False</td>\n",
       "      <td>Mike</td>\n",
       "      <td>Rogers</td>\n",
       "      <td>male</td>\n",
       "      <td>R</td>\n",
       "      <td>True</td>\n",
       "      <td>147481</td>\n",
       "      <td>63.8</td>\n",
       "    </tr>\n",
       "    <tr>\n",
       "      <th>6</th>\n",
       "      <td>AL-04</td>\n",
       "      <td>False</td>\n",
       "      <td>False</td>\n",
       "      <td>Robert</td>\n",
       "      <td>Aderholt</td>\n",
       "      <td>male</td>\n",
       "      <td>R</td>\n",
       "      <td>True</td>\n",
       "      <td>183968</td>\n",
       "      <td>79.9</td>\n",
       "    </tr>\n",
       "    <tr>\n",
       "      <th>8</th>\n",
       "      <td>AL-05</td>\n",
       "      <td>False</td>\n",
       "      <td>False</td>\n",
       "      <td>Mo</td>\n",
       "      <td>Brooks</td>\n",
       "      <td>male</td>\n",
       "      <td>R</td>\n",
       "      <td>True</td>\n",
       "      <td>158373</td>\n",
       "      <td>61.1</td>\n",
       "    </tr>\n",
       "  </tbody>\n",
       "</table>\n",
       "</div>"
      ],
      "text/plain": [
       "  district  keyrace  uncontested    first      last  gender party  winner  \\\n",
       "0    AL-01    False        False  Bradley     Byrne    male     R    True   \n",
       "2    AL-02    False        False   Martha      Roby  female     R    True   \n",
       "4    AL-03    False        False     Mike    Rogers    male     R    True   \n",
       "6    AL-04    False        False   Robert  Aderholt    male     R    True   \n",
       "8    AL-05    False        False       Mo    Brooks    male     R    True   \n",
       "\n",
       "    votes   pct  \n",
       "0  152308  63.3  \n",
       "2  138582  61.5  \n",
       "4  147481  63.8  \n",
       "6  183968  79.9  \n",
       "8  158373  61.1  "
      ]
     },
     "execution_count": 57,
     "metadata": {},
     "output_type": "execute_result"
    }
   ],
   "source": [
    "election2018_winners.head()"
   ]
  },
  {
   "cell_type": "code",
   "execution_count": 58,
   "metadata": {},
   "outputs": [],
   "source": [
    "#making margin column\n",
    "election2018_winners['margin'] = election2018_winners['pct'] - (100-election2018_winners['pct'])"
   ]
  },
  {
   "cell_type": "code",
   "execution_count": 59,
   "metadata": {},
   "outputs": [],
   "source": [
    "#changing democratic margin to negative and republican as positive\n",
    "election2018_winners['margin'] = np.where(election2018_winners['party']=='D',abs(election2018_winners['margin'])*-1,election2018_winners['margin'])"
   ]
  },
  {
   "cell_type": "code",
   "execution_count": 60,
   "metadata": {},
   "outputs": [],
   "source": [
    "#dropping keyrace and winner columns\n",
    "election2018_winners.drop(columns=['keyrace','winner'],inplace=True)"
   ]
  },
  {
   "cell_type": "code",
   "execution_count": 61,
   "metadata": {},
   "outputs": [],
   "source": [
    "#binarize gender\n",
    "\n",
    "election2018_winners.gender = np.where(election2018_winners.gender == 'male', 1, 0 )"
   ]
  },
  {
   "cell_type": "markdown",
   "metadata": {},
   "source": [
    "## Merge dataframes"
   ]
  },
  {
   "cell_type": "code",
   "execution_count": 62,
   "metadata": {},
   "outputs": [],
   "source": [
    "#merging winners with trump agree percentage\n",
    "pd.set_option('display.max_columns', 22)\n",
    "final_df = pd.merge(election2018_winners, trump115,on='district')"
   ]
  },
  {
   "cell_type": "code",
   "execution_count": 63,
   "metadata": {},
   "outputs": [
    {
     "data": {
      "text/html": [
       "<div>\n",
       "<style scoped>\n",
       "    .dataframe tbody tr th:only-of-type {\n",
       "        vertical-align: middle;\n",
       "    }\n",
       "\n",
       "    .dataframe tbody tr th {\n",
       "        vertical-align: top;\n",
       "    }\n",
       "\n",
       "    .dataframe thead th {\n",
       "        text-align: right;\n",
       "    }\n",
       "</style>\n",
       "<table border=\"1\" class=\"dataframe\">\n",
       "  <thead>\n",
       "    <tr style=\"text-align: right;\">\n",
       "      <th></th>\n",
       "      <th>district</th>\n",
       "      <th>uncontested</th>\n",
       "      <th>first</th>\n",
       "      <th>last</th>\n",
       "      <th>gender</th>\n",
       "      <th>party_x</th>\n",
       "      <th>votes_x</th>\n",
       "      <th>pct</th>\n",
       "      <th>margin</th>\n",
       "      <th>congress</th>\n",
       "      <th>last_name</th>\n",
       "      <th>party_y</th>\n",
       "      <th>votes_y</th>\n",
       "      <th>agree_pct</th>\n",
       "      <th>predicted_agree</th>\n",
       "      <th>net_trump_vote</th>\n",
       "    </tr>\n",
       "  </thead>\n",
       "  <tbody>\n",
       "    <tr>\n",
       "      <th>0</th>\n",
       "      <td>AL-01</td>\n",
       "      <td>False</td>\n",
       "      <td>Bradley</td>\n",
       "      <td>Byrne</td>\n",
       "      <td>1</td>\n",
       "      <td>R</td>\n",
       "      <td>152308</td>\n",
       "      <td>63.3</td>\n",
       "      <td>26.6</td>\n",
       "      <td>115</td>\n",
       "      <td>Byrne</td>\n",
       "      <td>R</td>\n",
       "      <td>96</td>\n",
       "      <td>0.958333</td>\n",
       "      <td>0.945840</td>\n",
       "      <td>29.4</td>\n",
       "    </tr>\n",
       "    <tr>\n",
       "      <th>1</th>\n",
       "      <td>AL-02</td>\n",
       "      <td>False</td>\n",
       "      <td>Martha</td>\n",
       "      <td>Roby</td>\n",
       "      <td>0</td>\n",
       "      <td>R</td>\n",
       "      <td>138582</td>\n",
       "      <td>61.5</td>\n",
       "      <td>23.0</td>\n",
       "      <td>115</td>\n",
       "      <td>Roby</td>\n",
       "      <td>R</td>\n",
       "      <td>95</td>\n",
       "      <td>0.957895</td>\n",
       "      <td>0.947442</td>\n",
       "      <td>31.9</td>\n",
       "    </tr>\n",
       "    <tr>\n",
       "      <th>2</th>\n",
       "      <td>AL-03</td>\n",
       "      <td>False</td>\n",
       "      <td>Mike</td>\n",
       "      <td>Rogers</td>\n",
       "      <td>1</td>\n",
       "      <td>R</td>\n",
       "      <td>147481</td>\n",
       "      <td>63.8</td>\n",
       "      <td>27.6</td>\n",
       "      <td>115</td>\n",
       "      <td>Rogers</td>\n",
       "      <td>R</td>\n",
       "      <td>96</td>\n",
       "      <td>0.958333</td>\n",
       "      <td>0.948683</td>\n",
       "      <td>33.0</td>\n",
       "    </tr>\n",
       "    <tr>\n",
       "      <th>3</th>\n",
       "      <td>AL-04</td>\n",
       "      <td>False</td>\n",
       "      <td>Robert</td>\n",
       "      <td>Aderholt</td>\n",
       "      <td>1</td>\n",
       "      <td>R</td>\n",
       "      <td>183968</td>\n",
       "      <td>79.9</td>\n",
       "      <td>59.8</td>\n",
       "      <td>115</td>\n",
       "      <td>Aderholt</td>\n",
       "      <td>R</td>\n",
       "      <td>95</td>\n",
       "      <td>0.968421</td>\n",
       "      <td>0.946349</td>\n",
       "      <td>63.0</td>\n",
       "    </tr>\n",
       "    <tr>\n",
       "      <th>4</th>\n",
       "      <td>AL-05</td>\n",
       "      <td>False</td>\n",
       "      <td>Mo</td>\n",
       "      <td>Brooks</td>\n",
       "      <td>1</td>\n",
       "      <td>R</td>\n",
       "      <td>158373</td>\n",
       "      <td>61.1</td>\n",
       "      <td>22.2</td>\n",
       "      <td>115</td>\n",
       "      <td>Brooks</td>\n",
       "      <td>R</td>\n",
       "      <td>92</td>\n",
       "      <td>0.836957</td>\n",
       "      <td>0.947222</td>\n",
       "      <td>33.4</td>\n",
       "    </tr>\n",
       "  </tbody>\n",
       "</table>\n",
       "</div>"
      ],
      "text/plain": [
       "  district  uncontested    first      last  gender party_x  votes_x   pct  \\\n",
       "0    AL-01        False  Bradley     Byrne       1       R   152308  63.3   \n",
       "1    AL-02        False   Martha      Roby       0       R   138582  61.5   \n",
       "2    AL-03        False     Mike    Rogers       1       R   147481  63.8   \n",
       "3    AL-04        False   Robert  Aderholt       1       R   183968  79.9   \n",
       "4    AL-05        False       Mo    Brooks       1       R   158373  61.1   \n",
       "\n",
       "   margin  congress last_name party_y  votes_y  agree_pct  predicted_agree  \\\n",
       "0    26.6       115     Byrne       R       96   0.958333         0.945840   \n",
       "1    23.0       115      Roby       R       95   0.957895         0.947442   \n",
       "2    27.6       115    Rogers       R       96   0.958333         0.948683   \n",
       "3    59.8       115  Aderholt       R       95   0.968421         0.946349   \n",
       "4    22.2       115    Brooks       R       92   0.836957         0.947222   \n",
       "\n",
       "   net_trump_vote  \n",
       "0            29.4  \n",
       "1            31.9  \n",
       "2            33.0  \n",
       "3            63.0  \n",
       "4            33.4  "
      ]
     },
     "execution_count": 63,
     "metadata": {},
     "output_type": "execute_result"
    }
   ],
   "source": [
    "final_df.head()"
   ]
  },
  {
   "cell_type": "code",
   "execution_count": 64,
   "metadata": {},
   "outputs": [],
   "source": [
    "final_df.drop(columns=['predicted_agree','net_trump_vote'],inplace=True)"
   ]
  },
  {
   "cell_type": "code",
   "execution_count": 65,
   "metadata": {},
   "outputs": [],
   "source": [
    "final_df.columns = ['district','uncontested','116first','116last','116gender','116party','2018votes','2018pct','2018margin','congress','115last','115party','115trump_votes_y','115agree_pct']"
   ]
  },
  {
   "cell_type": "code",
   "execution_count": 66,
   "metadata": {},
   "outputs": [],
   "source": [
    "final_df = pd.merge(final_df, district_makeup, on='district')"
   ]
  },
  {
   "cell_type": "code",
   "execution_count": 67,
   "metadata": {},
   "outputs": [
    {
     "data": {
      "text/plain": [
       "(447, 16)"
      ]
     },
     "execution_count": 67,
     "metadata": {},
     "output_type": "execute_result"
    }
   ],
   "source": [
    "final_df.shape"
   ]
  },
  {
   "cell_type": "code",
   "execution_count": 68,
   "metadata": {},
   "outputs": [],
   "source": [
    "final_df.to_csv('./data/final_df.csv')"
   ]
  }
 ],
 "metadata": {
  "kernelspec": {
   "display_name": "Python 3.6",
   "language": "python",
   "name": "py36"
  },
  "language_info": {
   "codemirror_mode": {
    "name": "ipython",
    "version": 3
   },
   "file_extension": ".py",
   "mimetype": "text/x-python",
   "name": "python",
   "nbconvert_exporter": "python",
   "pygments_lexer": "ipython3",
   "version": "3.6.7"
  }
 },
 "nbformat": 4,
 "nbformat_minor": 2
}
