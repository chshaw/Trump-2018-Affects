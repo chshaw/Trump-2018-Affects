{
 "cells": [
  {
   "cell_type": "code",
   "execution_count": 1,
   "metadata": {},
   "outputs": [],
   "source": [
    "#imports\n",
    "import pandas as pd\n",
    "import numpy as np\n",
    "import seaborn as sns\n",
    "import matplotlib.pyplot as plt\n",
    "\n",
    "from sklearn.linear_model    import LinearRegression\n",
    "from sklearn.ensemble        import RandomForestRegressor\n",
    "from sklearn.preprocessing   import StandardScaler\n",
    "from sklearn.model_selection import train_test_split"
   ]
  },
  {
   "cell_type": "code",
   "execution_count": 2,
   "metadata": {},
   "outputs": [],
   "source": [
    "#reading in csv\n",
    "df = pd.read_csv('./data/final_df.csv')\n",
    "\n",
    "df.drop(columns=['Unnamed: 0'], inplace = True)"
   ]
  },
  {
   "cell_type": "code",
   "execution_count": 3,
   "metadata": {},
   "outputs": [
    {
     "data": {
      "text/html": [
       "<div>\n",
       "<style scoped>\n",
       "    .dataframe tbody tr th:only-of-type {\n",
       "        vertical-align: middle;\n",
       "    }\n",
       "\n",
       "    .dataframe tbody tr th {\n",
       "        vertical-align: top;\n",
       "    }\n",
       "\n",
       "    .dataframe thead th {\n",
       "        text-align: right;\n",
       "    }\n",
       "</style>\n",
       "<table border=\"1\" class=\"dataframe\">\n",
       "  <thead>\n",
       "    <tr style=\"text-align: right;\">\n",
       "      <th></th>\n",
       "      <th>district</th>\n",
       "      <th>uncontested</th>\n",
       "      <th>116first</th>\n",
       "      <th>116last</th>\n",
       "      <th>116gender</th>\n",
       "      <th>116party</th>\n",
       "      <th>2018votes</th>\n",
       "      <th>2018pct</th>\n",
       "      <th>2018margin</th>\n",
       "      <th>congress</th>\n",
       "      <th>115last</th>\n",
       "      <th>115party</th>\n",
       "      <th>115trump_votes_y</th>\n",
       "      <th>115agree_pct</th>\n",
       "      <th>elasticity</th>\n",
       "      <th>pvi_538</th>\n",
       "    </tr>\n",
       "  </thead>\n",
       "  <tbody>\n",
       "    <tr>\n",
       "      <th>0</th>\n",
       "      <td>AL-01</td>\n",
       "      <td>False</td>\n",
       "      <td>Bradley</td>\n",
       "      <td>Byrne</td>\n",
       "      <td>1</td>\n",
       "      <td>R</td>\n",
       "      <td>152308</td>\n",
       "      <td>63.3</td>\n",
       "      <td>26.6</td>\n",
       "      <td>115</td>\n",
       "      <td>Byrne</td>\n",
       "      <td>R</td>\n",
       "      <td>96</td>\n",
       "      <td>0.958333</td>\n",
       "      <td>0.90</td>\n",
       "      <td>28.61</td>\n",
       "    </tr>\n",
       "    <tr>\n",
       "      <th>1</th>\n",
       "      <td>AL-02</td>\n",
       "      <td>False</td>\n",
       "      <td>Martha</td>\n",
       "      <td>Roby</td>\n",
       "      <td>0</td>\n",
       "      <td>R</td>\n",
       "      <td>138582</td>\n",
       "      <td>61.5</td>\n",
       "      <td>23.0</td>\n",
       "      <td>115</td>\n",
       "      <td>Roby</td>\n",
       "      <td>R</td>\n",
       "      <td>95</td>\n",
       "      <td>0.957895</td>\n",
       "      <td>0.97</td>\n",
       "      <td>30.97</td>\n",
       "    </tr>\n",
       "    <tr>\n",
       "      <th>2</th>\n",
       "      <td>AL-03</td>\n",
       "      <td>False</td>\n",
       "      <td>Mike</td>\n",
       "      <td>Rogers</td>\n",
       "      <td>1</td>\n",
       "      <td>R</td>\n",
       "      <td>147481</td>\n",
       "      <td>63.8</td>\n",
       "      <td>27.6</td>\n",
       "      <td>115</td>\n",
       "      <td>Rogers</td>\n",
       "      <td>R</td>\n",
       "      <td>96</td>\n",
       "      <td>0.958333</td>\n",
       "      <td>0.79</td>\n",
       "      <td>31.37</td>\n",
       "    </tr>\n",
       "    <tr>\n",
       "      <th>3</th>\n",
       "      <td>AL-04</td>\n",
       "      <td>False</td>\n",
       "      <td>Robert</td>\n",
       "      <td>Aderholt</td>\n",
       "      <td>1</td>\n",
       "      <td>R</td>\n",
       "      <td>183968</td>\n",
       "      <td>79.9</td>\n",
       "      <td>59.8</td>\n",
       "      <td>115</td>\n",
       "      <td>Aderholt</td>\n",
       "      <td>R</td>\n",
       "      <td>95</td>\n",
       "      <td>0.968421</td>\n",
       "      <td>0.86</td>\n",
       "      <td>59.81</td>\n",
       "    </tr>\n",
       "    <tr>\n",
       "      <th>4</th>\n",
       "      <td>AL-05</td>\n",
       "      <td>False</td>\n",
       "      <td>Mo</td>\n",
       "      <td>Brooks</td>\n",
       "      <td>1</td>\n",
       "      <td>R</td>\n",
       "      <td>158373</td>\n",
       "      <td>61.1</td>\n",
       "      <td>22.2</td>\n",
       "      <td>115</td>\n",
       "      <td>Brooks</td>\n",
       "      <td>R</td>\n",
       "      <td>92</td>\n",
       "      <td>0.836957</td>\n",
       "      <td>1.00</td>\n",
       "      <td>32.81</td>\n",
       "    </tr>\n",
       "  </tbody>\n",
       "</table>\n",
       "</div>"
      ],
      "text/plain": [
       "  district  uncontested 116first   116last  116gender 116party  2018votes  \\\n",
       "0    AL-01        False  Bradley     Byrne          1        R     152308   \n",
       "1    AL-02        False   Martha      Roby          0        R     138582   \n",
       "2    AL-03        False     Mike    Rogers          1        R     147481   \n",
       "3    AL-04        False   Robert  Aderholt          1        R     183968   \n",
       "4    AL-05        False       Mo    Brooks          1        R     158373   \n",
       "\n",
       "   2018pct  2018margin  congress   115last 115party  115trump_votes_y  \\\n",
       "0     63.3        26.6       115     Byrne        R                96   \n",
       "1     61.5        23.0       115      Roby        R                95   \n",
       "2     63.8        27.6       115    Rogers        R                96   \n",
       "3     79.9        59.8       115  Aderholt        R                95   \n",
       "4     61.1        22.2       115    Brooks        R                92   \n",
       "\n",
       "   115agree_pct  elasticity  pvi_538  \n",
       "0      0.958333        0.90    28.61  \n",
       "1      0.957895        0.97    30.97  \n",
       "2      0.958333        0.79    31.37  \n",
       "3      0.968421        0.86    59.81  \n",
       "4      0.836957        1.00    32.81  "
      ]
     },
     "execution_count": 3,
     "metadata": {},
     "output_type": "execute_result"
    }
   ],
   "source": [
    "df.head()"
   ]
  },
  {
   "cell_type": "code",
   "execution_count": 4,
   "metadata": {},
   "outputs": [
    {
     "data": {
      "text/plain": [
       "<matplotlib.axes._subplots.AxesSubplot at 0x1149d7198>"
      ]
     },
     "execution_count": 4,
     "metadata": {},
     "output_type": "execute_result"
    },
    {
     "data": {
      "image/png": "[encoded data removed]",
      "text/plain": [
       "<Figure size 432x432 with 2 Axes>"
      ]
     },
     "metadata": {
      "needs_background": "light"
     },
     "output_type": "display_data"
    }
   ],
   "source": [
    "#heatmap to see correlations\n",
    "plt.figure(figsize=(6,6))\n",
    "sns.heatmap(df.corr(),vmin=-1,cmap='coolwarm')"
   ]
  },
  {
   "cell_type": "code",
   "execution_count": 5,
   "metadata": {},
   "outputs": [],
   "source": [
    "#setting X and y\n",
    "X = df[['115agree_pct','elasticity','pvi_538','116gender']]\n",
    "y = df['2018margin']"
   ]
  },
  {
   "cell_type": "code",
   "execution_count": 6,
   "metadata": {},
   "outputs": [],
   "source": [
    "#train test splitting data\n",
    "X_train, X_test, y_train, y_test = train_test_split(X,\n",
    "                                                    y,\n",
    "                                                    random_state = 42)"
   ]
  },
  {
   "cell_type": "code",
   "execution_count": 7,
   "metadata": {},
   "outputs": [
    {
     "name": "stderr",
     "output_type": "stream",
     "text": [
      "/anaconda3/envs/dsi/lib/python3.7/site-packages/sklearn/preprocessing/data.py:625: DataConversionWarning: Data with input dtype int64, float64 were all converted to float64 by StandardScaler.\n",
      "  return self.partial_fit(X, y)\n",
      "/anaconda3/envs/dsi/lib/python3.7/site-packages/sklearn/base.py:462: DataConversionWarning: Data with input dtype int64, float64 were all converted to float64 by StandardScaler.\n",
      "  return self.fit(X, **fit_params).transform(X)\n",
      "/anaconda3/envs/dsi/lib/python3.7/site-packages/ipykernel_launcher.py:5: DataConversionWarning: Data with input dtype int64, float64 were all converted to float64 by StandardScaler.\n",
      "  \"\"\"\n"
     ]
    }
   ],
   "source": [
    "#scaling the data\n",
    "ss = StandardScaler()\n",
    "\n",
    "X_train_sc = ss.fit_transform(X_train)\n",
    "X_test_sc  = ss.transform(X_test)"
   ]
  },
  {
   "cell_type": "markdown",
   "metadata": {},
   "source": [
    "## Modeling Linear Regression"
   ]
  },
  {
   "cell_type": "code",
   "execution_count": 8,
   "metadata": {},
   "outputs": [
    {
     "name": "stdout",
     "output_type": "stream",
     "text": [
      "Train Score:  0.8554755313038775\n",
      "Test Score:  0.8438936206372465\n"
     ]
    }
   ],
   "source": [
    "#instantiating model\n",
    "lr = LinearRegression()\n",
    "\n",
    "#fitting model\n",
    "lr.fit(X_train_sc, y_train)\n",
    "\n",
    "#scoring model\n",
    "print('Train Score: ',lr.score(X_train_sc,y_train))\n",
    "print('Test Score: ',lr.score(X_test_sc, y_test))"
   ]
  },
  {
   "cell_type": "markdown",
   "metadata": {},
   "source": [
    "## Modeling Random Forest"
   ]
  },
  {
   "cell_type": "code",
   "execution_count": 9,
   "metadata": {},
   "outputs": [
    {
     "name": "stdout",
     "output_type": "stream",
     "text": [
      "Train Score:  0.8721818606639731\n",
      "Test Score:  0.852018040811368\n"
     ]
    }
   ],
   "source": [
    "#instantiating model\n",
    "rf = RandomForestRegressor(n_estimators = 100,\n",
    "                           max_depth    = 3,\n",
    "                           max_features = 3)\n",
    "\n",
    "#fitting model\n",
    "rf.fit(X_train_sc, y_train)\n",
    "\n",
    "#scoring model\n",
    "print('Train Score: ',rf.score(X_train_sc,y_train))\n",
    "print('Test Score: ',rf.score(X_test_sc, y_test))"
   ]
  },
  {
   "cell_type": "code",
   "execution_count": 10,
   "metadata": {},
   "outputs": [
    {
     "data": {
      "text/plain": [
       "[('115agree_pct', 0.16740983256017697),\n",
       " ('elasticity', 0.006665346399093522),\n",
       " ('pvi_538', 0.8224115905774826),\n",
       " ('116gender', 0.0035132304632471585)]"
      ]
     },
     "execution_count": 10,
     "metadata": {},
     "output_type": "execute_result"
    }
   ],
   "source": [
    "#most important features\n",
    "list(zip(X.columns, rf.feature_importances_))"
   ]
  },
  {
   "cell_type": "markdown",
   "metadata": {},
   "source": [
    "## Making Prediction Columns"
   ]
  },
  {
   "cell_type": "code",
   "execution_count": 11,
   "metadata": {},
   "outputs": [],
   "source": [
    "#these are the slider \n",
    "slider_range = [i for i in range(-20, 21, 5)]"
   ]
  },
  {
   "cell_type": "code",
   "execution_count": 12,
   "metadata": {},
   "outputs": [],
   "source": [
    "#creating new agree percentages\n",
    "for i in slider_range:\n",
    "    df[f'trumpagree_{i}'] = (df['115agree_pct'] + (df['115agree_pct'] * i/100)).clip(0,100)"
   ]
  },
  {
   "cell_type": "code",
   "execution_count": 13,
   "metadata": {},
   "outputs": [],
   "source": [
    "#creating prediction columns\n",
    "for i in slider_range:\n",
    "    df[f'ypreds_{i}'] = rf.predict(df[[f'trumpagree_{i}','elasticity','pvi_538','116gender']])"
   ]
  },
  {
   "cell_type": "code",
   "execution_count": 14,
   "metadata": {},
   "outputs": [
    {
     "data": {
      "text/html": [
       "<div>\n",
       "<style scoped>\n",
       "    .dataframe tbody tr th:only-of-type {\n",
       "        vertical-align: middle;\n",
       "    }\n",
       "\n",
       "    .dataframe tbody tr th {\n",
       "        vertical-align: top;\n",
       "    }\n",
       "\n",
       "    .dataframe thead th {\n",
       "        text-align: right;\n",
       "    }\n",
       "</style>\n",
       "<table border=\"1\" class=\"dataframe\">\n",
       "  <thead>\n",
       "    <tr style=\"text-align: right;\">\n",
       "      <th></th>\n",
       "      <th>district</th>\n",
       "      <th>uncontested</th>\n",
       "      <th>116first</th>\n",
       "      <th>116last</th>\n",
       "      <th>116gender</th>\n",
       "      <th>116party</th>\n",
       "      <th>2018votes</th>\n",
       "      <th>2018pct</th>\n",
       "      <th>2018margin</th>\n",
       "      <th>congress</th>\n",
       "      <th>...</th>\n",
       "      <th>trumpagree_20</th>\n",
       "      <th>ypreds_-20</th>\n",
       "      <th>ypreds_-15</th>\n",
       "      <th>ypreds_-10</th>\n",
       "      <th>ypreds_-5</th>\n",
       "      <th>ypreds_0</th>\n",
       "      <th>ypreds_5</th>\n",
       "      <th>ypreds_10</th>\n",
       "      <th>ypreds_15</th>\n",
       "      <th>ypreds_20</th>\n",
       "    </tr>\n",
       "  </thead>\n",
       "  <tbody>\n",
       "    <tr>\n",
       "      <th>0</th>\n",
       "      <td>AL-01</td>\n",
       "      <td>False</td>\n",
       "      <td>Bradley</td>\n",
       "      <td>Byrne</td>\n",
       "      <td>1</td>\n",
       "      <td>R</td>\n",
       "      <td>152308</td>\n",
       "      <td>63.3</td>\n",
       "      <td>26.6</td>\n",
       "      <td>115</td>\n",
       "      <td>...</td>\n",
       "      <td>1.150000</td>\n",
       "      <td>41.352145</td>\n",
       "      <td>41.352145</td>\n",
       "      <td>41.352145</td>\n",
       "      <td>41.352145</td>\n",
       "      <td>41.352145</td>\n",
       "      <td>41.680992</td>\n",
       "      <td>43.249219</td>\n",
       "      <td>43.249219</td>\n",
       "      <td>43.249219</td>\n",
       "    </tr>\n",
       "    <tr>\n",
       "      <th>1</th>\n",
       "      <td>AL-02</td>\n",
       "      <td>False</td>\n",
       "      <td>Martha</td>\n",
       "      <td>Roby</td>\n",
       "      <td>0</td>\n",
       "      <td>R</td>\n",
       "      <td>138582</td>\n",
       "      <td>61.5</td>\n",
       "      <td>23.0</td>\n",
       "      <td>115</td>\n",
       "      <td>...</td>\n",
       "      <td>1.149474</td>\n",
       "      <td>41.352145</td>\n",
       "      <td>41.352145</td>\n",
       "      <td>41.352145</td>\n",
       "      <td>41.352145</td>\n",
       "      <td>41.352145</td>\n",
       "      <td>41.680992</td>\n",
       "      <td>43.249219</td>\n",
       "      <td>43.249219</td>\n",
       "      <td>43.249219</td>\n",
       "    </tr>\n",
       "    <tr>\n",
       "      <th>2</th>\n",
       "      <td>AL-03</td>\n",
       "      <td>False</td>\n",
       "      <td>Mike</td>\n",
       "      <td>Rogers</td>\n",
       "      <td>1</td>\n",
       "      <td>R</td>\n",
       "      <td>147481</td>\n",
       "      <td>63.8</td>\n",
       "      <td>27.6</td>\n",
       "      <td>115</td>\n",
       "      <td>...</td>\n",
       "      <td>1.150000</td>\n",
       "      <td>41.671666</td>\n",
       "      <td>41.671666</td>\n",
       "      <td>41.671666</td>\n",
       "      <td>41.671666</td>\n",
       "      <td>41.671666</td>\n",
       "      <td>42.000513</td>\n",
       "      <td>43.568740</td>\n",
       "      <td>43.568740</td>\n",
       "      <td>43.568740</td>\n",
       "    </tr>\n",
       "    <tr>\n",
       "      <th>3</th>\n",
       "      <td>AL-04</td>\n",
       "      <td>False</td>\n",
       "      <td>Robert</td>\n",
       "      <td>Aderholt</td>\n",
       "      <td>1</td>\n",
       "      <td>R</td>\n",
       "      <td>183968</td>\n",
       "      <td>79.9</td>\n",
       "      <td>59.8</td>\n",
       "      <td>115</td>\n",
       "      <td>...</td>\n",
       "      <td>1.162105</td>\n",
       "      <td>41.352145</td>\n",
       "      <td>41.352145</td>\n",
       "      <td>41.352145</td>\n",
       "      <td>41.352145</td>\n",
       "      <td>41.680992</td>\n",
       "      <td>41.680992</td>\n",
       "      <td>43.249219</td>\n",
       "      <td>43.249219</td>\n",
       "      <td>43.249219</td>\n",
       "    </tr>\n",
       "    <tr>\n",
       "      <th>4</th>\n",
       "      <td>AL-05</td>\n",
       "      <td>False</td>\n",
       "      <td>Mo</td>\n",
       "      <td>Brooks</td>\n",
       "      <td>1</td>\n",
       "      <td>R</td>\n",
       "      <td>158373</td>\n",
       "      <td>61.1</td>\n",
       "      <td>22.2</td>\n",
       "      <td>115</td>\n",
       "      <td>...</td>\n",
       "      <td>1.004348</td>\n",
       "      <td>41.352145</td>\n",
       "      <td>41.352145</td>\n",
       "      <td>41.352145</td>\n",
       "      <td>41.352145</td>\n",
       "      <td>41.352145</td>\n",
       "      <td>41.352145</td>\n",
       "      <td>41.352145</td>\n",
       "      <td>41.352145</td>\n",
       "      <td>41.680992</td>\n",
       "    </tr>\n",
       "  </tbody>\n",
       "</table>\n",
       "<p>5 rows × 34 columns</p>\n",
       "</div>"
      ],
      "text/plain": [
       "  district  uncontested 116first   116last  116gender 116party  2018votes  \\\n",
       "0    AL-01        False  Bradley     Byrne          1        R     152308   \n",
       "1    AL-02        False   Martha      Roby          0        R     138582   \n",
       "2    AL-03        False     Mike    Rogers          1        R     147481   \n",
       "3    AL-04        False   Robert  Aderholt          1        R     183968   \n",
       "4    AL-05        False       Mo    Brooks          1        R     158373   \n",
       "\n",
       "   2018pct  2018margin  congress    ...     trumpagree_20 ypreds_-20  \\\n",
       "0     63.3        26.6       115    ...          1.150000  41.352145   \n",
       "1     61.5        23.0       115    ...          1.149474  41.352145   \n",
       "2     63.8        27.6       115    ...          1.150000  41.671666   \n",
       "3     79.9        59.8       115    ...          1.162105  41.352145   \n",
       "4     61.1        22.2       115    ...          1.004348  41.352145   \n",
       "\n",
       "   ypreds_-15  ypreds_-10  ypreds_-5   ypreds_0   ypreds_5  ypreds_10  \\\n",
       "0   41.352145   41.352145  41.352145  41.352145  41.680992  43.249219   \n",
       "1   41.352145   41.352145  41.352145  41.352145  41.680992  43.249219   \n",
       "2   41.671666   41.671666  41.671666  41.671666  42.000513  43.568740   \n",
       "3   41.352145   41.352145  41.352145  41.680992  41.680992  43.249219   \n",
       "4   41.352145   41.352145  41.352145  41.352145  41.352145  41.352145   \n",
       "\n",
       "   ypreds_15  ypreds_20  \n",
       "0  43.249219  43.249219  \n",
       "1  43.249219  43.249219  \n",
       "2  43.568740  43.568740  \n",
       "3  43.249219  43.249219  \n",
       "4  41.352145  41.680992  \n",
       "\n",
       "[5 rows x 34 columns]"
      ]
     },
     "execution_count": 14,
     "metadata": {},
     "output_type": "execute_result"
    }
   ],
   "source": [
    "#checking dataframe\n",
    "df.head()"
   ]
  },
  {
   "cell_type": "code",
   "execution_count": 15,
   "metadata": {},
   "outputs": [],
   "source": [
    "#exporting to final_df\n",
    "df.to_csv('./data/final_df.csv')"
   ]
  },
  {
   "cell_type": "markdown",
   "metadata": {},
   "source": [
    "## Analysing Predictions"
   ]
  },
  {
   "cell_type": "code",
   "execution_count": 19,
   "metadata": {},
   "outputs": [
    {
     "name": "stdout",
     "output_type": "stream",
     "text": [
      "Real Margin median: -3.200000000000003\n",
      "-10% Agreement Margin median: 41.35214492668995\n",
      "-20% Agreement Margin median: 41.35214492668995\n",
      "10% Agreement Margin median: 41.35214492668995\n",
      "20% Agreement Margin median:  41.35214492668995\n"
     ]
    }
   ],
   "source": [
    "#median of predictions\n",
    "print('Real Margin median:'          ,  df['2018margin'].median())\n",
    "print('-10% Agreement Margin median:',  df['ypreds_-10'].median())\n",
    "print('-20% Agreement Margin median:',  df['ypreds_-20'].median())\n",
    "print('10% Agreement Margin median:' ,  df['ypreds_10'].median())\n",
    "print('20% Agreement Margin median: ',  df['ypreds_20'].median())"
   ]
  },
  {
   "cell_type": "code",
   "execution_count": 20,
   "metadata": {},
   "outputs": [
    {
     "name": "stdout",
     "output_type": "stream",
     "text": [
      "Real Margin median: -10.310067114093961\n",
      "-10% Agreement Margin median: -8.214893208933747\n",
      "-20% Agreement Margin median: -8.218420299381343\n",
      "10% Agreement Margin median: -7.42764364668879\n",
      "20% Agreement Margin median:  -7.127907857047657\n"
     ]
    }
   ],
   "source": [
    "#mean of predictions\n",
    "print('Real Margin median:'          ,  df['2018margin'].mean())\n",
    "print('-10% Agreement Margin median:',  df['ypreds_-10'].mean())\n",
    "print('-20% Agreement Margin median:',  df['ypreds_-20'].mean())\n",
    "print('10% Agreement Margin median:' ,  df['ypreds_10'].mean())\n",
    "print('20% Agreement Margin median: ',  df['ypreds_20'].mean())"
   ]
  }
 ],
 "metadata": {
  "kernelspec": {
   "display_name": "Python 3",
   "language": "python",
   "name": "python3"
  },
  "language_info": {
   "codemirror_mode": {
    "name": "ipython",
    "version": 3
   },
   "file_extension": ".py",
   "mimetype": "text/x-python",
   "name": "python",
   "nbconvert_exporter": "python",
   "pygments_lexer": "ipython3",
   "version": "3.7.1"
  }
 },
 "nbformat": 4,
 "nbformat_minor": 2
}
